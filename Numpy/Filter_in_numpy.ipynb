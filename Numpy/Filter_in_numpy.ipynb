{
 "cells": [
  {
   "cell_type": "code",
   "execution_count": 8,
   "metadata": {},
   "outputs": [],
   "source": [
    "import numpy as np"
   ]
  },
  {
   "cell_type": "markdown",
   "id": "0ea5c9dd",
   "metadata": {},
   "source": [
    "filter numpu using any()"
   ]
  },
  {
   "cell_type": "code",
   "execution_count": 9,
   "id": "741b4a44",
   "metadata": {},
   "outputs": [
    {
     "name": "stdout",
     "output_type": "stream",
     "text": [
      "[ True False  True False]\n",
      "[[ 5000  7200  6100  8500]\n",
      " [ 9100  8700  9200 10500]]\n"
     ]
    }
   ],
   "source": [
    "sales_data=np.array([[5000,7200,6100,8500],[4200,5100,4800,6300],[9100,8700,9200,10500],[3800,4100,3900,4600]])\n",
    "max_seales=np.any(sales_data>8000,axis=1)\n",
    "result=sales_data[max_seales]\n",
    "print(max_seales)\n",
    "print(result)"
   ]
  },
  {
   "cell_type": "markdown",
   "id": "088e0238",
   "metadata": {},
   "source": [
    "filter numpu using where()"
   ]
  },
  {
   "cell_type": "code",
   "execution_count": 10,
   "id": "1ba9cacc",
   "metadata": {},
   "outputs": [
    {
     "name": "stdout",
     "output_type": "stream",
     "text": [
      "(array([0, 2]),)\n",
      "[[4.2 3.8 4.5 4.1]\n",
      " [4.8 4.7 4.9 4.6]]\n"
     ]
    }
   ],
   "source": [
    "customer_rating=np.array([[4.2,3.8,4.5,4.1],[3.1,3.2,2.9,3.3],[4.8,4.7,4.9,4.6],[3.7,3.9,3.5,3.8]])\n",
    "average_ratings=np.where(np.mean(customer_rating>4.0,axis=1))\n",
    "highly_ratings=customer_rating[average_ratings]\n",
    "print(average_ratings)\n",
    "print(highly_ratings)"
   ]
  },
  {
   "cell_type": "markdown",
   "id": "bcf62749",
   "metadata": {},
   "source": [
    "filter numpu using Extract()"
   ]
  },
  {
   "cell_type": "code",
   "execution_count": 11,
   "id": "10d534ee",
   "metadata": {},
   "outputs": [
    {
     "name": "stdout",
     "output_type": "stream",
     "text": [
      "[72 85 75]\n"
     ]
    }
   ],
   "source": [
    "temparature=np.array([[72,85,68,45],[45,65,55,30],[68,75,65,55],[35,60,50,25]])\n",
    "tem_above=np.extract(temparature>70,temparature)\n",
    "print(tem_above)"
   ]
  },
  {
   "cell_type": "markdown",
   "id": "5a304c52",
   "metadata": {},
   "source": [
    "filter numpu using marked()"
   ]
  },
  {
   "cell_type": "code",
   "execution_count": 12,
   "id": "d8f28bff",
   "metadata": {},
   "outputs": [
    {
     "ename": "AttributeError",
     "evalue": "module 'numpy' has no attribute 'masked_array'",
     "output_type": "error",
     "traceback": [
      "\u001b[31m---------------------------------------------------------------------------\u001b[39m",
      "\u001b[31mAttributeError\u001b[39m                            Traceback (most recent call last)",
      "\u001b[36mCell\u001b[39m\u001b[36m \u001b[39m\u001b[32mIn[12]\u001b[39m\u001b[32m, line 2\u001b[39m\n\u001b[32m      1\u001b[39m stock_price=np.array([[\u001b[32m2.5\u001b[39m,-\u001b[32m1.3\u001b[39m,\u001b[32m5.2\u001b[39m,\u001b[32m0.5\u001b[39m],[-\u001b[32m0.7\u001b[39m,-\u001b[32m2.1\u001b[39m,-\u001b[32m0.5\u001b[39m,-\u001b[32m1.2\u001b[39m],[\u001b[32m1.8\u001b[39m,\u001b[32m2.3\u001b[39m,-\u001b[32m0.4\u001b[39m,\u001b[32m1.5\u001b[39m],[\u001b[32m3.1\u001b[39m,-\u001b[32m0.8\u001b[39m,\u001b[32m2.7\u001b[39m,\u001b[32m4.2\u001b[39m]])\n\u001b[32m----> \u001b[39m\u001b[32m2\u001b[39m negative_stock=\u001b[43mnp\u001b[49m\u001b[43m.\u001b[49m\u001b[43mmasked_array\u001b[49m(stock_price,stock_price<\u001b[32m0\u001b[39m)\n\u001b[32m      3\u001b[39m \u001b[38;5;28mprint\u001b[39m(negative_stock)\n",
      "\u001b[36mFile \u001b[39m\u001b[32m~/jupyter Notebook/.venv/lib/python3.11/site-packages/numpy/__init__.py:414\u001b[39m, in \u001b[36m__getattr__\u001b[39m\u001b[34m(attr)\u001b[39m\n\u001b[32m    411\u001b[39m     \u001b[38;5;28;01mimport\u001b[39;00m\u001b[38;5;250m \u001b[39m\u001b[34;01mnumpy\u001b[39;00m\u001b[34;01m.\u001b[39;00m\u001b[34;01mchar\u001b[39;00m\u001b[38;5;250m \u001b[39m\u001b[38;5;28;01mas\u001b[39;00m\u001b[38;5;250m \u001b[39m\u001b[34;01mchar\u001b[39;00m\n\u001b[32m    412\u001b[39m     \u001b[38;5;28;01mreturn\u001b[39;00m char.chararray\n\u001b[32m--> \u001b[39m\u001b[32m414\u001b[39m \u001b[38;5;28;01mraise\u001b[39;00m \u001b[38;5;167;01mAttributeError\u001b[39;00m(\u001b[33m\"\u001b[39m\u001b[33mmodule \u001b[39m\u001b[38;5;132;01m{!r}\u001b[39;00m\u001b[33m has no attribute \u001b[39m\u001b[33m\"\u001b[39m\n\u001b[32m    415\u001b[39m                      \u001b[33m\"\u001b[39m\u001b[38;5;132;01m{!r}\u001b[39;00m\u001b[33m\"\u001b[39m.format(\u001b[34m__name__\u001b[39m, attr))\n",
      "\u001b[31mAttributeError\u001b[39m: module 'numpy' has no attribute 'masked_array'"
     ]
    }
   ],
   "source": [
    "stock_price=np.array([[2.5,-1.3,5.2,0.5],[-0.7,-2.1,-0.5,-1.2],[1.8,2.3,-0.4,1.5],[3.1,-0.8,2.7,4.2]])\n",
    "negative_stock=np.masked_array(stock_price,stock_price<0)\n",
    "print(negative_stock)"
   ]
  },
  {
   "cell_type": "markdown",
   "id": "049fb48e",
   "metadata": {},
   "source": [
    "filter numpu using  comress()"
   ]
  },
  {
   "cell_type": "code",
   "execution_count": null,
   "id": "10d72bd2",
   "metadata": {},
   "outputs": [
    {
     "name": "stdout",
     "output_type": "stream",
     "text": [
      "[[1200 1500 1100 1300]\n",
      " [2200 2500  230 2400]]\n"
     ]
    }
   ],
   "source": [
    "trafic_data=np.array([[1200,1500,1100,1300],[500,450,550,480],[2200,2500,230,2400],[850,900,830,870]])\n",
    "average_visitor=np.compress(np.mean(trafic_data>1000,axis=1),trafic_data,axis=0)\n",
    "print(average_visitor)"
   ]
  },
  {
   "cell_type": "markdown",
   "id": "3b18b7be",
   "metadata": {},
   "source": [
    "Multiple condition arise"
   ]
  },
  {
   "cell_type": "code",
   "execution_count": 15,
   "id": "326de221",
   "metadata": {},
   "outputs": [
    {
     "name": "stdout",
     "output_type": "stream",
     "text": [
      "[[79.99  4.5   8.  ]]\n"
     ]
    }
   ],
   "source": [
    "product_data=np.array([[49.99,4.2,5],[99.99,4.7,120],[19.99,4.0,3],[79.99,4.5,8]])\n",
    "c1=product_data[:,0]<80\n",
    "c2=product_data[:,1]>4.0\n",
    "c3=product_data[:,2]>5\n",
    "res=c1&c2&c3\n",
    "product=product_data[res]\n",
    "print(product)"
   ]
  }
 ],
 "metadata": {
  "kernelspec": {
   "display_name": ".venv",
   "language": "python",
   "name": "python3"
  },
  "language_info": {
   "codemirror_mode": {
    "name": "ipython",
    "version": 3
   },
   "file_extension": ".py",
   "mimetype": "text/x-python",
   "name": "python",
   "nbconvert_exporter": "python",
   "pygments_lexer": "ipython3",
   "version": "3.11.2"
  }
 },
 "nbformat": 4,
 "nbformat_minor": 5
}
